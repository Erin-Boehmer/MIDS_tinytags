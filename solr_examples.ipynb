{
 "metadata": {
  "name": "",
  "signature": "sha256:7653d24465c6696c74aa88ecd16b06dc892a8482b39ce791437b24ca299fdf36"
 },
 "nbformat": 3,
 "nbformat_minor": 0,
 "worksheets": [
  {
   "cells": [
    {
     "cell_type": "code",
     "collapsed": false,
     "input": [
      "import sunburnt\n",
      "import os"
     ],
     "language": "python",
     "metadata": {},
     "outputs": []
    },
    {
     "cell_type": "heading",
     "level": 2,
     "metadata": {},
     "source": [
      "Connect to Solr.  This gives you a \"handle\" (solr_interface) from which you drive all your interactions with Solr"
     ]
    },
    {
     "cell_type": "code",
     "collapsed": false,
     "input": [
      "# Create connection to Solr\n",
      "solr_interface = sunburnt.SolrInterface(\"http://localhost:8983/solr\")"
     ],
     "language": "python",
     "metadata": {},
     "outputs": []
    },
    {
     "cell_type": "heading",
     "level": 2,
     "metadata": {},
     "source": [
      "Only look at the pieces of code below comments. This code actually sends documents to solr"
     ]
    },
    {
     "cell_type": "code",
     "collapsed": false,
     "input": [
      "folder = 'C:\\\\Solr\\\\tt\\\\apache-solr\\\\example\\\\solr\\\\data\\\\index'\n",
      "index_sizes = {}\n",
      "\n",
      "for index, item in enumerate(final_list):\n",
      "    \n",
      "        ###Don't worry about this code; it's just extracting meta data about files to add as facets\n",
      "        company = item[0]\n",
      "        form = item[1]\n",
      "        cik = item[2]\n",
      "        date = item[3]\n",
      "        path = item[4]\n",
      "        #text = fix_doc(path) \n",
      "        header, body = get_header_body(path)\n",
      "        \n",
      "        ###This is how you prepare a Python dictionary to send to Solr; each key in the python dictionary\n",
      "        ###is an indexed field that's been initialized in the Solr instance; for our purposes, I believe we only have the \n",
      "        ###default 'text' field to worry about\n",
      "        document = {\n",
      "        \"cik\":cik,\n",
      "        \"company\":company,\n",
      "        \"date\":date,\n",
      "        \"text\":body,\n",
      "        \"form\":form,\n",
      "        \"path\":path\n",
      "        }\n",
      "        \n",
      "        ###This code adds the document (python dict) to the solr index\n",
      "        solr_interface.add(document)\n",
      "        \n",
      "        ###In order to be efficient, you don't want to commit until you've added a bunch of documents, as each commit\n",
      "        ###takes additional time.  This code commits after adding 1000 documents, but this number can be bumped up\n",
      "        if index % 1000 == 0:\n",
      "            solr_interface.commit()\n",
      "            \n",
      "            #This is just some code, so that I could keep track of how large the index was becoming\n",
      "            folder_size = 0\n",
      "            for (path, dirs, files) in os.walk(folder):\n",
      "              for file in files:\n",
      "                filename = os.path.join(path, file)\n",
      "                folder_size += os.path.getsize(filename)\n",
      "            index_sizes[index] = round(folder_size/(1024*1024.0),1)"
     ],
     "language": "python",
     "metadata": {},
     "outputs": []
    },
    {
     "cell_type": "heading",
     "level": 2,
     "metadata": {},
     "source": [
      "Deleting the Solr Index"
     ]
    },
    {
     "cell_type": "code",
     "collapsed": false,
     "input": [
      "# delete ENTIRE index to start clean\n",
      "solr_interface = sunburnt.SolrInterface(\"http://localhost:8983/solr\")\n",
      "solr_interface.delete_all()\n",
      "solr_interface.commit()"
     ],
     "language": "python",
     "metadata": {},
     "outputs": []
    }
   ],
   "metadata": {}
  }
 ]
}